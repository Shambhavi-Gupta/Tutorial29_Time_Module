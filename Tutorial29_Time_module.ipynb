{
  "nbformat": 4,
  "nbformat_minor": 0,
  "metadata": {
    "colab": {
      "name": "Tutorial29_Time_module.ipynb",
      "provenance": [],
      "authorship_tag": "ABX9TyNaDrjIOJwQvGZ+FR6aMVai",
      "include_colab_link": true
    },
    "kernelspec": {
      "name": "python3",
      "display_name": "Python 3"
    }
  },
  "cells": [
    {
      "cell_type": "markdown",
      "metadata": {
        "id": "view-in-github",
        "colab_type": "text"
      },
      "source": [
        "<a href=\"https://colab.research.google.com/github/Shambhavi-Gupta/Tutorial29_Time_Module/blob/main/Tutorial29_Time_module.ipynb\" target=\"_parent\"><img src=\"https://colab.research.google.com/assets/colab-badge.svg\" alt=\"Open In Colab\"/></a>"
      ]
    },
    {
      "cell_type": "code",
      "metadata": {
        "id": "iBywtgUwGvjI"
      },
      "source": [
        "import time        #time.time() returns ticks\r\n",
        "                   #ticks is seconds\r\n",
        "value = time.time()\r\n",
        "#print(value)\r\n",
        "a=0\r\n",
        "while(a<10):\r\n",
        "    print(\"FUN WITH DATA SCIENCE\")\r\n",
        "    a+=1\r\n",
        "print(\"While loop : \", time.time() - value)\r\n",
        "\r\n",
        "value2 = time.time()\r\n",
        "for i in range(10):\r\n",
        "    print(\"FUN WITH DATA SCIENCE\")\r\n",
        "print(\"For loop : \", time.time() - value2)\r\n",
        "\r\n",
        "localtime = time.asctime(time.localtime(time.time()))\r\n",
        "print(localtime)"
      ],
      "execution_count": null,
      "outputs": []
    }
  ]
}